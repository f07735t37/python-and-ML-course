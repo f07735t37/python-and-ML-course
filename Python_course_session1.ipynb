{
  "nbformat": 4,
  "nbformat_minor": 0,
  "metadata": {
    "colab": {
      "name": "Python course_session1.ipynb",
      "provenance": [],
      "authorship_tag": "ABX9TyPVMKLDvxphZMdi5dMqdWiw",
      "include_colab_link": true
    },
    "kernelspec": {
      "name": "python3",
      "display_name": "Python 3"
    },
    "language_info": {
      "name": "python"
    }
  },
  "cells": [
    {
      "cell_type": "markdown",
      "metadata": {
        "id": "view-in-github",
        "colab_type": "text"
      },
      "source": [
        "<a href=\"https://colab.research.google.com/github/f07735t37/python-and-ML-course/blob/main/Python_course_session1.ipynb\" target=\"_parent\"><img src=\"https://colab.research.google.com/assets/colab-badge.svg\" alt=\"Open In Colab\"/></a>"
      ]
    },
    {
      "cell_type": "code",
      "execution_count": 1,
      "metadata": {
        "colab": {
          "base_uri": "https://localhost:8080/"
        },
        "id": "2q3jXWuyDKkx",
        "outputId": "9df552ea-5d4a-4793-ffa2-9764621d43da"
      },
      "outputs": [
        {
          "output_type": "stream",
          "name": "stdout",
          "text": [
            "Hello World!\n"
          ]
        }
      ],
      "source": [
        "print(\"Hello World!\")"
      ]
    },
    {
      "cell_type": "markdown",
      "source": [
        "## Intro"
      ],
      "metadata": {
        "id": "n6I0jmdTH-OK"
      }
    },
    {
      "cell_type": "code",
      "source": [
        "myname = \"Poppy\"\n",
        "interests = \"I'm interested in becoming more fluent in Javascript, and I'm also interested in servers and APIs\"\n",
        "greeting =\"Hello, I'm \"\n",
        "\n",
        "print(greeting + myname + \".\" + \" \" + interests)\n",
        " "
      ],
      "metadata": {
        "colab": {
          "base_uri": "https://localhost:8080/"
        },
        "id": "P9JrlXbmFW5J",
        "outputId": "4a34ce3f-3d55-4634-c696-a3d2ebad8478"
      },
      "execution_count": 22,
      "outputs": [
        {
          "output_type": "stream",
          "name": "stdout",
          "text": [
            "Hello\n"
          ]
        }
      ]
    },
    {
      "cell_type": "markdown",
      "source": [
        ""
      ],
      "metadata": {
        "id": "Pl25o5wvHRTl"
      }
    },
    {
      "cell_type": "code",
      "source": [
        "myname = \"Poppy\"\n",
        "greeting = \"Hello\"\n",
        "\n",
        "if myname == \"Sharon\":\n",
        " print(greeting)\n",
        "else: \n",
        "  print (\"Who are you?\")"
      ],
      "metadata": {
        "colab": {
          "base_uri": "https://localhost:8080/"
        },
        "id": "s5nggSAaHUHB",
        "outputId": "e78abbd8-3a1a-47cd-fcce-0d19e05529ed"
      },
      "execution_count": 30,
      "outputs": [
        {
          "output_type": "stream",
          "name": "stdout",
          "text": [
            "Who are you?\n"
          ]
        }
      ]
    },
    {
      "cell_type": "code",
      "source": [
        "name = \"Faith\"\n",
        "allowednames = [\"Faith\", \"Noah\", \"Betye\"]\n",
        "welcome = \"Welcome \" + name + \".\" + \" How are you?\"\n",
        "\n",
        "if (name in allowednames):\n",
        "  print(\"Access granted\")\n",
        "else:\n",
        "  print(\"Access denied\")\n",
        "\n",
        "if name != \"Sharon\":\n",
        "  print(\"Access denied\")\n",
        "else: \n",
        "  print(welcome)"
      ],
      "metadata": {
        "colab": {
          "base_uri": "https://localhost:8080/"
        },
        "id": "zp_yEhPihAq4",
        "outputId": "8f8dafcc-5edf-4777-cf0c-2e6b8022c0dc"
      },
      "execution_count": 41,
      "outputs": [
        {
          "output_type": "stream",
          "name": "stdout",
          "text": [
            "Access granted\n",
            "Access denied\n"
          ]
        }
      ]
    }
  ]
}
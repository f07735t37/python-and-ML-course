{
  "nbformat": 4,
  "nbformat_minor": 0,
  "metadata": {
    "colab": {
      "name": "Python course_extra task.ipynb",
      "provenance": [],
      "authorship_tag": "ABX9TyM4Yw5yewrDY/x5znqyd73p",
      "include_colab_link": true
    },
    "kernelspec": {
      "name": "python3",
      "display_name": "Python 3"
    },
    "language_info": {
      "name": "python"
    }
  },
  "cells": [
    {
      "cell_type": "markdown",
      "metadata": {
        "id": "view-in-github",
        "colab_type": "text"
      },
      "source": [
        "<a href=\"https://colab.research.google.com/github/f07735t37/python-and-ML-course/blob/main/Python_course_extra_task.ipynb\" target=\"_parent\"><img src=\"https://colab.research.google.com/assets/colab-badge.svg\" alt=\"Open In Colab\"/></a>"
      ]
    },
    {
      "cell_type": "markdown",
      "source": [
        "## Linear Regression Model"
      ],
      "metadata": {
        "id": "E10TIHJBv_or"
      }
    },
    {
      "cell_type": "markdown",
      "source": [
        "To predict the saltiness of water based on water temperature"
      ],
      "metadata": {
        "id": "dKcNEOqNwEad"
      }
    },
    {
      "cell_type": "code",
      "source": [
        "import matplotlib.pyplot as plt\n",
        "import numpy as np\n",
        "import pandas as pd\n",
        "from sklearn.model_selection import train_test_split\n",
        "from sklearn.linear_model import LinearRegression # importing a Machine Learning model"
      ],
      "metadata": {
        "id": "BFREeqrsNzgQ"
      },
      "execution_count": 1,
      "outputs": []
    },
    {
      "cell_type": "code",
      "source": [
        "water_data = pd.read_csv(\"bottle.csv\")"
      ],
      "metadata": {
        "colab": {
          "base_uri": "https://localhost:8080/"
        },
        "id": "YcFyAjR8wUsJ",
        "outputId": "91d9a858-be08-40bc-c18a-0da07d46c4f3"
      },
      "execution_count": 2,
      "outputs": [
        {
          "output_type": "stream",
          "name": "stderr",
          "text": [
            "/usr/local/lib/python3.7/dist-packages/IPython/core/interactiveshell.py:2718: DtypeWarning: Columns (47,73) have mixed types.Specify dtype option on import or set low_memory=False.\n",
            "  interactivity=interactivity, compiler=compiler, result=result)\n"
          ]
        }
      ]
    },
    {
      "cell_type": "code",
      "source": [
        "water_data.describe()"
      ],
      "metadata": {
        "colab": {
          "base_uri": "https://localhost:8080/",
          "height": 364
        },
        "id": "OPahLVJewg6x",
        "outputId": "f22e54ac-acc6-4cd2-c3b3-bbc9ce8588c1"
      },
      "execution_count": 3,
      "outputs": [
        {
          "output_type": "execute_result",
          "data": {
            "text/html": [
              "\n",
              "  <div id=\"df-b627cff1-5b3b-4f3e-a825-9bad678baa9b\">\n",
              "    <div class=\"colab-df-container\">\n",
              "      <div>\n",
              "<style scoped>\n",
              "    .dataframe tbody tr th:only-of-type {\n",
              "        vertical-align: middle;\n",
              "    }\n",
              "\n",
              "    .dataframe tbody tr th {\n",
              "        vertical-align: top;\n",
              "    }\n",
              "\n",
              "    .dataframe thead th {\n",
              "        text-align: right;\n",
              "    }\n",
              "</style>\n",
              "<table border=\"1\" class=\"dataframe\">\n",
              "  <thead>\n",
              "    <tr style=\"text-align: right;\">\n",
              "      <th></th>\n",
              "      <th>Cst_Cnt</th>\n",
              "      <th>Btl_Cnt</th>\n",
              "      <th>Depthm</th>\n",
              "      <th>T_degC</th>\n",
              "      <th>Salnty</th>\n",
              "      <th>O2ml_L</th>\n",
              "      <th>STheta</th>\n",
              "      <th>O2Sat</th>\n",
              "      <th>Oxy_µmol/Kg</th>\n",
              "      <th>BtlNum</th>\n",
              "      <th>RecInd</th>\n",
              "      <th>T_prec</th>\n",
              "      <th>T_qual</th>\n",
              "      <th>S_prec</th>\n",
              "      <th>S_qual</th>\n",
              "      <th>P_qual</th>\n",
              "      <th>O_qual</th>\n",
              "      <th>SThtaq</th>\n",
              "      <th>O2Satq</th>\n",
              "      <th>ChlorA</th>\n",
              "      <th>Chlqua</th>\n",
              "      <th>Phaeop</th>\n",
              "      <th>Phaqua</th>\n",
              "      <th>PO4uM</th>\n",
              "      <th>PO4q</th>\n",
              "      <th>SiO3uM</th>\n",
              "      <th>SiO3qu</th>\n",
              "      <th>NO2uM</th>\n",
              "      <th>NO2q</th>\n",
              "      <th>NO3uM</th>\n",
              "      <th>NO3q</th>\n",
              "      <th>NH3uM</th>\n",
              "      <th>NH3q</th>\n",
              "      <th>C14As1</th>\n",
              "      <th>C14A1p</th>\n",
              "      <th>C14A1q</th>\n",
              "      <th>C14As2</th>\n",
              "      <th>C14A2p</th>\n",
              "      <th>C14A2q</th>\n",
              "      <th>DarkAs</th>\n",
              "      <th>DarkAp</th>\n",
              "      <th>DarkAq</th>\n",
              "      <th>MeanAs</th>\n",
              "      <th>MeanAp</th>\n",
              "      <th>MeanAq</th>\n",
              "      <th>LightP</th>\n",
              "      <th>R_Depth</th>\n",
              "      <th>R_TEMP</th>\n",
              "      <th>R_POTEMP</th>\n",
              "      <th>R_SALINITY</th>\n",
              "      <th>R_SIGMA</th>\n",
              "      <th>R_SVA</th>\n",
              "      <th>R_DYNHT</th>\n",
              "      <th>R_O2</th>\n",
              "      <th>R_O2Sat</th>\n",
              "      <th>R_SIO3</th>\n",
              "      <th>R_PO4</th>\n",
              "      <th>R_NO3</th>\n",
              "      <th>R_NO2</th>\n",
              "      <th>R_NH4</th>\n",
              "      <th>R_CHLA</th>\n",
              "      <th>R_PHAEO</th>\n",
              "      <th>R_PRES</th>\n",
              "      <th>R_SAMP</th>\n",
              "      <th>DIC1</th>\n",
              "      <th>DIC2</th>\n",
              "      <th>TA1</th>\n",
              "      <th>TA2</th>\n",
              "      <th>pH2</th>\n",
              "      <th>pH1</th>\n",
              "    </tr>\n",
              "  </thead>\n",
              "  <tbody>\n",
              "    <tr>\n",
              "      <th>count</th>\n",
              "      <td>864863.000000</td>\n",
              "      <td>864863.000000</td>\n",
              "      <td>864863.000000</td>\n",
              "      <td>853900.000000</td>\n",
              "      <td>817509.000000</td>\n",
              "      <td>696201.000000</td>\n",
              "      <td>812174.000000</td>\n",
              "      <td>661274.000000</td>\n",
              "      <td>661268.000000</td>\n",
              "      <td>118667.000000</td>\n",
              "      <td>864863.000000</td>\n",
              "      <td>853900.000000</td>\n",
              "      <td>23127.000000</td>\n",
              "      <td>817509.000000</td>\n",
              "      <td>74914.000000</td>\n",
              "      <td>673755.000000</td>\n",
              "      <td>184676.000000</td>\n",
              "      <td>65823.00000</td>\n",
              "      <td>217797.000000</td>\n",
              "      <td>225272.000000</td>\n",
              "      <td>639166.000000</td>\n",
              "      <td>225271.000000</td>\n",
              "      <td>639170.000000</td>\n",
              "      <td>413317.000000</td>\n",
              "      <td>451786.000000</td>\n",
              "      <td>354091.000000</td>\n",
              "      <td>510866.000000</td>\n",
              "      <td>337576.000000</td>\n",
              "      <td>529474.000000</td>\n",
              "      <td>337403.000000</td>\n",
              "      <td>529933.000000</td>\n",
              "      <td>64962.000000</td>\n",
              "      <td>808299.000000</td>\n",
              "      <td>14432.000000</td>\n",
              "      <td>12760.000000</td>\n",
              "      <td>848605.000000</td>\n",
              "      <td>14414.000000</td>\n",
              "      <td>12742.000000</td>\n",
              "      <td>848623.000000</td>\n",
              "      <td>22649.000000</td>\n",
              "      <td>20457.000000</td>\n",
              "      <td>840440.000000</td>\n",
              "      <td>22650.000000</td>\n",
              "      <td>20457.000000</td>\n",
              "      <td>840439.000000</td>\n",
              "      <td>18651.000000</td>\n",
              "      <td>864863.000000</td>\n",
              "      <td>853900.000000</td>\n",
              "      <td>818816.000000</td>\n",
              "      <td>817509.000000</td>\n",
              "      <td>812007.000000</td>\n",
              "      <td>812092.000000</td>\n",
              "      <td>818206.000000</td>\n",
              "      <td>696201.000000</td>\n",
              "      <td>666448.000000</td>\n",
              "      <td>354099.000000</td>\n",
              "      <td>413325.000000</td>\n",
              "      <td>337411.000000</td>\n",
              "      <td>337584.000000</td>\n",
              "      <td>64982.000000</td>\n",
              "      <td>225276.000000</td>\n",
              "      <td>225275.000000</td>\n",
              "      <td>864863.000000</td>\n",
              "      <td>122006.000000</td>\n",
              "      <td>1999.000000</td>\n",
              "      <td>224.000000</td>\n",
              "      <td>2084.000000</td>\n",
              "      <td>234.000000</td>\n",
              "      <td>10.000000</td>\n",
              "      <td>84.000000</td>\n",
              "    </tr>\n",
              "    <tr>\n",
              "      <th>mean</th>\n",
              "      <td>17138.790958</td>\n",
              "      <td>432432.000000</td>\n",
              "      <td>226.831951</td>\n",
              "      <td>10.799677</td>\n",
              "      <td>33.840350</td>\n",
              "      <td>3.392468</td>\n",
              "      <td>25.819394</td>\n",
              "      <td>57.103779</td>\n",
              "      <td>148.808694</td>\n",
              "      <td>10.497426</td>\n",
              "      <td>4.700273</td>\n",
              "      <td>2.017148</td>\n",
              "      <td>7.471829</td>\n",
              "      <td>2.716787</td>\n",
              "      <td>7.945057</td>\n",
              "      <td>8.999996</td>\n",
              "      <td>8.755615</td>\n",
              "      <td>8.46701</td>\n",
              "      <td>8.793487</td>\n",
              "      <td>0.450185</td>\n",
              "      <td>8.999848</td>\n",
              "      <td>0.198553</td>\n",
              "      <td>8.999844</td>\n",
              "      <td>1.564747</td>\n",
              "      <td>8.999320</td>\n",
              "      <td>26.606587</td>\n",
              "      <td>8.999687</td>\n",
              "      <td>0.042316</td>\n",
              "      <td>8.995458</td>\n",
              "      <td>17.302247</td>\n",
              "      <td>8.993122</td>\n",
              "      <td>0.084877</td>\n",
              "      <td>8.947668</td>\n",
              "      <td>9.757704</td>\n",
              "      <td>1.266928</td>\n",
              "      <td>8.999992</td>\n",
              "      <td>9.762613</td>\n",
              "      <td>1.267776</td>\n",
              "      <td>8.999992</td>\n",
              "      <td>0.155295</td>\n",
              "      <td>1.993450</td>\n",
              "      <td>8.999992</td>\n",
              "      <td>8.393530</td>\n",
              "      <td>1.256587</td>\n",
              "      <td>8.999992</td>\n",
              "      <td>18.356509</td>\n",
              "      <td>226.832495</td>\n",
              "      <td>10.799697</td>\n",
              "      <td>10.842295</td>\n",
              "      <td>33.840295</td>\n",
              "      <td>25.811010</td>\n",
              "      <td>220.938918</td>\n",
              "      <td>0.431763</td>\n",
              "      <td>3.392498</td>\n",
              "      <td>57.192940</td>\n",
              "      <td>26.606862</td>\n",
              "      <td>1.564736</td>\n",
              "      <td>17.302188</td>\n",
              "      <td>0.042336</td>\n",
              "      <td>0.084851</td>\n",
              "      <td>0.450225</td>\n",
              "      <td>0.198599</td>\n",
              "      <td>228.395694</td>\n",
              "      <td>162.071521</td>\n",
              "      <td>2153.239714</td>\n",
              "      <td>2168.148330</td>\n",
              "      <td>2256.055845</td>\n",
              "      <td>2278.858803</td>\n",
              "      <td>7.948570</td>\n",
              "      <td>7.910983</td>\n",
              "    </tr>\n",
              "    <tr>\n",
              "      <th>std</th>\n",
              "      <td>10240.949817</td>\n",
              "      <td>249664.587267</td>\n",
              "      <td>316.050259</td>\n",
              "      <td>4.243825</td>\n",
              "      <td>0.461843</td>\n",
              "      <td>2.073256</td>\n",
              "      <td>1.167787</td>\n",
              "      <td>37.094137</td>\n",
              "      <td>90.187533</td>\n",
              "      <td>6.189688</td>\n",
              "      <td>1.877428</td>\n",
              "      <td>0.148498</td>\n",
              "      <td>1.483097</td>\n",
              "      <td>0.450559</td>\n",
              "      <td>1.415355</td>\n",
              "      <td>0.003655</td>\n",
              "      <td>0.810973</td>\n",
              "      <td>1.11778</td>\n",
              "      <td>0.892111</td>\n",
              "      <td>1.208570</td>\n",
              "      <td>0.012318</td>\n",
              "      <td>0.376543</td>\n",
              "      <td>0.012507</td>\n",
              "      <td>1.035966</td>\n",
              "      <td>0.026895</td>\n",
              "      <td>27.648190</td>\n",
              "      <td>0.018768</td>\n",
              "      <td>0.104196</td>\n",
              "      <td>0.077426</td>\n",
              "      <td>14.581958</td>\n",
              "      <td>0.131516</td>\n",
              "      <td>0.273061</td>\n",
              "      <td>0.508844</td>\n",
              "      <td>23.983492</td>\n",
              "      <td>0.442372</td>\n",
              "      <td>0.002872</td>\n",
              "      <td>25.064529</td>\n",
              "      <td>0.442817</td>\n",
              "      <td>0.002872</td>\n",
              "      <td>0.224953</td>\n",
              "      <td>0.080671</td>\n",
              "      <td>0.002886</td>\n",
              "      <td>21.516374</td>\n",
              "      <td>0.436760</td>\n",
              "      <td>0.002886</td>\n",
              "      <td>29.852839</td>\n",
              "      <td>316.050007</td>\n",
              "      <td>4.243829</td>\n",
              "      <td>4.236435</td>\n",
              "      <td>0.462978</td>\n",
              "      <td>1.124645</td>\n",
              "      <td>93.483703</td>\n",
              "      <td>0.382336</td>\n",
              "      <td>2.073271</td>\n",
              "      <td>37.060537</td>\n",
              "      <td>27.648403</td>\n",
              "      <td>1.035973</td>\n",
              "      <td>14.581998</td>\n",
              "      <td>0.104201</td>\n",
              "      <td>0.273022</td>\n",
              "      <td>1.208566</td>\n",
              "      <td>0.376539</td>\n",
              "      <td>319.456731</td>\n",
              "      <td>85.722796</td>\n",
              "      <td>112.995202</td>\n",
              "      <td>154.852332</td>\n",
              "      <td>34.844435</td>\n",
              "      <td>58.496495</td>\n",
              "      <td>0.021216</td>\n",
              "      <td>0.077666</td>\n",
              "    </tr>\n",
              "    <tr>\n",
              "      <th>min</th>\n",
              "      <td>1.000000</td>\n",
              "      <td>1.000000</td>\n",
              "      <td>0.000000</td>\n",
              "      <td>1.440000</td>\n",
              "      <td>28.431000</td>\n",
              "      <td>-0.010000</td>\n",
              "      <td>20.934000</td>\n",
              "      <td>-0.100000</td>\n",
              "      <td>-0.434900</td>\n",
              "      <td>0.000000</td>\n",
              "      <td>3.000000</td>\n",
              "      <td>1.000000</td>\n",
              "      <td>6.000000</td>\n",
              "      <td>2.000000</td>\n",
              "      <td>6.000000</td>\n",
              "      <td>6.000000</td>\n",
              "      <td>6.000000</td>\n",
              "      <td>6.00000</td>\n",
              "      <td>2.000000</td>\n",
              "      <td>-0.001000</td>\n",
              "      <td>8.000000</td>\n",
              "      <td>-3.890000</td>\n",
              "      <td>8.000000</td>\n",
              "      <td>0.000000</td>\n",
              "      <td>4.000000</td>\n",
              "      <td>0.000000</td>\n",
              "      <td>4.000000</td>\n",
              "      <td>0.000000</td>\n",
              "      <td>4.000000</td>\n",
              "      <td>-0.400000</td>\n",
              "      <td>4.000000</td>\n",
              "      <td>0.000000</td>\n",
              "      <td>4.000000</td>\n",
              "      <td>-0.240000</td>\n",
              "      <td>1.000000</td>\n",
              "      <td>8.000000</td>\n",
              "      <td>-0.200000</td>\n",
              "      <td>1.000000</td>\n",
              "      <td>8.000000</td>\n",
              "      <td>-0.010000</td>\n",
              "      <td>1.000000</td>\n",
              "      <td>8.000000</td>\n",
              "      <td>-0.220000</td>\n",
              "      <td>1.000000</td>\n",
              "      <td>8.000000</td>\n",
              "      <td>0.000000</td>\n",
              "      <td>0.000000</td>\n",
              "      <td>1.440000</td>\n",
              "      <td>0.000000</td>\n",
              "      <td>4.570000</td>\n",
              "      <td>20.934000</td>\n",
              "      <td>0.400000</td>\n",
              "      <td>0.000000</td>\n",
              "      <td>-0.010000</td>\n",
              "      <td>-0.100000</td>\n",
              "      <td>0.000000</td>\n",
              "      <td>0.000000</td>\n",
              "      <td>-0.400000</td>\n",
              "      <td>0.000000</td>\n",
              "      <td>0.000000</td>\n",
              "      <td>-0.010000</td>\n",
              "      <td>-3.890000</td>\n",
              "      <td>0.000000</td>\n",
              "      <td>0.000000</td>\n",
              "      <td>1948.850000</td>\n",
              "      <td>1969.440000</td>\n",
              "      <td>2181.570000</td>\n",
              "      <td>2198.150000</td>\n",
              "      <td>7.923100</td>\n",
              "      <td>7.618300</td>\n",
              "    </tr>\n",
              "    <tr>\n",
              "      <th>25%</th>\n",
              "      <td>8269.000000</td>\n",
              "      <td>216216.500000</td>\n",
              "      <td>46.000000</td>\n",
              "      <td>7.680000</td>\n",
              "      <td>33.488000</td>\n",
              "      <td>1.360000</td>\n",
              "      <td>24.965000</td>\n",
              "      <td>21.100000</td>\n",
              "      <td>60.915470</td>\n",
              "      <td>5.000000</td>\n",
              "      <td>3.000000</td>\n",
              "      <td>2.000000</td>\n",
              "      <td>6.000000</td>\n",
              "      <td>2.000000</td>\n",
              "      <td>6.000000</td>\n",
              "      <td>9.000000</td>\n",
              "      <td>9.000000</td>\n",
              "      <td>9.00000</td>\n",
              "      <td>9.000000</td>\n",
              "      <td>0.050000</td>\n",
              "      <td>9.000000</td>\n",
              "      <td>0.050000</td>\n",
              "      <td>9.000000</td>\n",
              "      <td>0.470000</td>\n",
              "      <td>9.000000</td>\n",
              "      <td>3.110000</td>\n",
              "      <td>9.000000</td>\n",
              "      <td>0.000000</td>\n",
              "      <td>9.000000</td>\n",
              "      <td>0.600000</td>\n",
              "      <td>9.000000</td>\n",
              "      <td>0.000000</td>\n",
              "      <td>9.000000</td>\n",
              "      <td>0.930000</td>\n",
              "      <td>1.000000</td>\n",
              "      <td>9.000000</td>\n",
              "      <td>0.930000</td>\n",
              "      <td>1.000000</td>\n",
              "      <td>9.000000</td>\n",
              "      <td>0.060000</td>\n",
              "      <td>2.000000</td>\n",
              "      <td>9.000000</td>\n",
              "      <td>0.980000</td>\n",
              "      <td>1.000000</td>\n",
              "      <td>9.000000</td>\n",
              "      <td>0.280000</td>\n",
              "      <td>46.000000</td>\n",
              "      <td>7.680000</td>\n",
              "      <td>7.740000</td>\n",
              "      <td>33.488000</td>\n",
              "      <td>24.960000</td>\n",
              "      <td>143.700000</td>\n",
              "      <td>0.130000</td>\n",
              "      <td>1.360000</td>\n",
              "      <td>21.200000</td>\n",
              "      <td>3.100000</td>\n",
              "      <td>0.470000</td>\n",
              "      <td>0.600000</td>\n",
              "      <td>0.000000</td>\n",
              "      <td>0.000000</td>\n",
              "      <td>0.050000</td>\n",
              "      <td>0.050000</td>\n",
              "      <td>46.000000</td>\n",
              "      <td>200.000000</td>\n",
              "      <td>2028.330000</td>\n",
              "      <td>2008.977500</td>\n",
              "      <td>2230.322500</td>\n",
              "      <td>2229.062500</td>\n",
              "      <td>7.931475</td>\n",
              "      <td>7.898675</td>\n",
              "    </tr>\n",
              "    <tr>\n",
              "      <th>50%</th>\n",
              "      <td>16848.000000</td>\n",
              "      <td>432432.000000</td>\n",
              "      <td>125.000000</td>\n",
              "      <td>10.060000</td>\n",
              "      <td>33.863000</td>\n",
              "      <td>3.440000</td>\n",
              "      <td>25.996000</td>\n",
              "      <td>54.400000</td>\n",
              "      <td>151.064150</td>\n",
              "      <td>10.000000</td>\n",
              "      <td>3.000000</td>\n",
              "      <td>2.000000</td>\n",
              "      <td>6.000000</td>\n",
              "      <td>3.000000</td>\n",
              "      <td>9.000000</td>\n",
              "      <td>9.000000</td>\n",
              "      <td>9.000000</td>\n",
              "      <td>9.00000</td>\n",
              "      <td>9.000000</td>\n",
              "      <td>0.160000</td>\n",
              "      <td>9.000000</td>\n",
              "      <td>0.110000</td>\n",
              "      <td>9.000000</td>\n",
              "      <td>1.570000</td>\n",
              "      <td>9.000000</td>\n",
              "      <td>18.000000</td>\n",
              "      <td>9.000000</td>\n",
              "      <td>0.010000</td>\n",
              "      <td>9.000000</td>\n",
              "      <td>18.100000</td>\n",
              "      <td>9.000000</td>\n",
              "      <td>0.000000</td>\n",
              "      <td>9.000000</td>\n",
              "      <td>2.600000</td>\n",
              "      <td>1.000000</td>\n",
              "      <td>9.000000</td>\n",
              "      <td>2.600000</td>\n",
              "      <td>1.000000</td>\n",
              "      <td>9.000000</td>\n",
              "      <td>0.100000</td>\n",
              "      <td>2.000000</td>\n",
              "      <td>9.000000</td>\n",
              "      <td>2.500000</td>\n",
              "      <td>1.000000</td>\n",
              "      <td>9.000000</td>\n",
              "      <td>1.800000</td>\n",
              "      <td>125.000000</td>\n",
              "      <td>10.060000</td>\n",
              "      <td>10.100000</td>\n",
              "      <td>33.863000</td>\n",
              "      <td>25.990000</td>\n",
              "      <td>203.200000</td>\n",
              "      <td>0.340000</td>\n",
              "      <td>3.440000</td>\n",
              "      <td>54.500000</td>\n",
              "      <td>18.000000</td>\n",
              "      <td>1.570000</td>\n",
              "      <td>18.100000</td>\n",
              "      <td>0.010000</td>\n",
              "      <td>0.000000</td>\n",
              "      <td>0.160000</td>\n",
              "      <td>0.110000</td>\n",
              "      <td>126.000000</td>\n",
              "      <td>206.000000</td>\n",
              "      <td>2170.640000</td>\n",
              "      <td>2265.885000</td>\n",
              "      <td>2244.325000</td>\n",
              "      <td>2247.505000</td>\n",
              "      <td>7.946650</td>\n",
              "      <td>7.928850</td>\n",
              "    </tr>\n",
              "    <tr>\n",
              "      <th>75%</th>\n",
              "      <td>26557.000000</td>\n",
              "      <td>648647.500000</td>\n",
              "      <td>300.000000</td>\n",
              "      <td>13.880000</td>\n",
              "      <td>34.196900</td>\n",
              "      <td>5.500000</td>\n",
              "      <td>26.646000</td>\n",
              "      <td>97.600000</td>\n",
              "      <td>240.379600</td>\n",
              "      <td>16.000000</td>\n",
              "      <td>7.000000</td>\n",
              "      <td>2.000000</td>\n",
              "      <td>9.000000</td>\n",
              "      <td>3.000000</td>\n",
              "      <td>9.000000</td>\n",
              "      <td>9.000000</td>\n",
              "      <td>9.000000</td>\n",
              "      <td>9.00000</td>\n",
              "      <td>9.000000</td>\n",
              "      <td>0.390000</td>\n",
              "      <td>9.000000</td>\n",
              "      <td>0.230000</td>\n",
              "      <td>9.000000</td>\n",
              "      <td>2.480000</td>\n",
              "      <td>9.000000</td>\n",
              "      <td>41.540000</td>\n",
              "      <td>9.000000</td>\n",
              "      <td>0.030000</td>\n",
              "      <td>9.000000</td>\n",
              "      <td>30.000000</td>\n",
              "      <td>9.000000</td>\n",
              "      <td>0.060000</td>\n",
              "      <td>9.000000</td>\n",
              "      <td>8.000000</td>\n",
              "      <td>2.000000</td>\n",
              "      <td>9.000000</td>\n",
              "      <td>8.056500</td>\n",
              "      <td>2.000000</td>\n",
              "      <td>9.000000</td>\n",
              "      <td>0.174000</td>\n",
              "      <td>2.000000</td>\n",
              "      <td>9.000000</td>\n",
              "      <td>7.000000</td>\n",
              "      <td>2.000000</td>\n",
              "      <td>9.000000</td>\n",
              "      <td>24.000000</td>\n",
              "      <td>300.000000</td>\n",
              "      <td>13.880000</td>\n",
              "      <td>13.920000</td>\n",
              "      <td>34.196000</td>\n",
              "      <td>26.640000</td>\n",
              "      <td>299.800000</td>\n",
              "      <td>0.640000</td>\n",
              "      <td>5.500000</td>\n",
              "      <td>97.600000</td>\n",
              "      <td>41.500000</td>\n",
              "      <td>2.480000</td>\n",
              "      <td>30.000000</td>\n",
              "      <td>0.030000</td>\n",
              "      <td>0.060000</td>\n",
              "      <td>0.390000</td>\n",
              "      <td>0.230000</td>\n",
              "      <td>302.000000</td>\n",
              "      <td>214.000000</td>\n",
              "      <td>2253.810000</td>\n",
              "      <td>2315.525000</td>\n",
              "      <td>2278.505000</td>\n",
              "      <td>2316.452500</td>\n",
              "      <td>7.963300</td>\n",
              "      <td>7.955100</td>\n",
              "    </tr>\n",
              "    <tr>\n",
              "      <th>max</th>\n",
              "      <td>34404.000000</td>\n",
              "      <td>864863.000000</td>\n",
              "      <td>5351.000000</td>\n",
              "      <td>31.140000</td>\n",
              "      <td>37.034000</td>\n",
              "      <td>11.130000</td>\n",
              "      <td>250.784000</td>\n",
              "      <td>214.100000</td>\n",
              "      <td>485.701800</td>\n",
              "      <td>25.000000</td>\n",
              "      <td>7.000000</td>\n",
              "      <td>3.000000</td>\n",
              "      <td>9.000000</td>\n",
              "      <td>3.000000</td>\n",
              "      <td>9.000000</td>\n",
              "      <td>9.000000</td>\n",
              "      <td>9.000000</td>\n",
              "      <td>9.00000</td>\n",
              "      <td>9.000000</td>\n",
              "      <td>66.110000</td>\n",
              "      <td>9.000000</td>\n",
              "      <td>65.300000</td>\n",
              "      <td>9.000000</td>\n",
              "      <td>5.210000</td>\n",
              "      <td>9.000000</td>\n",
              "      <td>196.000000</td>\n",
              "      <td>9.000000</td>\n",
              "      <td>8.190000</td>\n",
              "      <td>9.000000</td>\n",
              "      <td>95.000000</td>\n",
              "      <td>9.000000</td>\n",
              "      <td>15.630000</td>\n",
              "      <td>9.000000</td>\n",
              "      <td>584.500000</td>\n",
              "      <td>2.000000</td>\n",
              "      <td>9.000000</td>\n",
              "      <td>948.300000</td>\n",
              "      <td>2.000000</td>\n",
              "      <td>9.000000</td>\n",
              "      <td>6.900000</td>\n",
              "      <td>2.000000</td>\n",
              "      <td>9.000000</td>\n",
              "      <td>948.300000</td>\n",
              "      <td>2.000000</td>\n",
              "      <td>9.000000</td>\n",
              "      <td>99.900000</td>\n",
              "      <td>5351.000000</td>\n",
              "      <td>31.140000</td>\n",
              "      <td>31.140000</td>\n",
              "      <td>37.034000</td>\n",
              "      <td>250.784000</td>\n",
              "      <td>683.400000</td>\n",
              "      <td>3.880000</td>\n",
              "      <td>11.130000</td>\n",
              "      <td>214.100000</td>\n",
              "      <td>196.000000</td>\n",
              "      <td>5.210000</td>\n",
              "      <td>95.000000</td>\n",
              "      <td>8.190000</td>\n",
              "      <td>15.630000</td>\n",
              "      <td>66.110000</td>\n",
              "      <td>65.300000</td>\n",
              "      <td>5458.000000</td>\n",
              "      <td>424.000000</td>\n",
              "      <td>2367.800000</td>\n",
              "      <td>2364.420000</td>\n",
              "      <td>2434.900000</td>\n",
              "      <td>2437.000000</td>\n",
              "      <td>7.988300</td>\n",
              "      <td>8.047700</td>\n",
              "    </tr>\n",
              "  </tbody>\n",
              "</table>\n",
              "</div>\n",
              "      <button class=\"colab-df-convert\" onclick=\"convertToInteractive('df-b627cff1-5b3b-4f3e-a825-9bad678baa9b')\"\n",
              "              title=\"Convert this dataframe to an interactive table.\"\n",
              "              style=\"display:none;\">\n",
              "        \n",
              "  <svg xmlns=\"http://www.w3.org/2000/svg\" height=\"24px\"viewBox=\"0 0 24 24\"\n",
              "       width=\"24px\">\n",
              "    <path d=\"M0 0h24v24H0V0z\" fill=\"none\"/>\n",
              "    <path d=\"M18.56 5.44l.94 2.06.94-2.06 2.06-.94-2.06-.94-.94-2.06-.94 2.06-2.06.94zm-11 1L8.5 8.5l.94-2.06 2.06-.94-2.06-.94L8.5 2.5l-.94 2.06-2.06.94zm10 10l.94 2.06.94-2.06 2.06-.94-2.06-.94-.94-2.06-.94 2.06-2.06.94z\"/><path d=\"M17.41 7.96l-1.37-1.37c-.4-.4-.92-.59-1.43-.59-.52 0-1.04.2-1.43.59L10.3 9.45l-7.72 7.72c-.78.78-.78 2.05 0 2.83L4 21.41c.39.39.9.59 1.41.59.51 0 1.02-.2 1.41-.59l7.78-7.78 2.81-2.81c.8-.78.8-2.07 0-2.86zM5.41 20L4 18.59l7.72-7.72 1.47 1.35L5.41 20z\"/>\n",
              "  </svg>\n",
              "      </button>\n",
              "      \n",
              "  <style>\n",
              "    .colab-df-container {\n",
              "      display:flex;\n",
              "      flex-wrap:wrap;\n",
              "      gap: 12px;\n",
              "    }\n",
              "\n",
              "    .colab-df-convert {\n",
              "      background-color: #E8F0FE;\n",
              "      border: none;\n",
              "      border-radius: 50%;\n",
              "      cursor: pointer;\n",
              "      display: none;\n",
              "      fill: #1967D2;\n",
              "      height: 32px;\n",
              "      padding: 0 0 0 0;\n",
              "      width: 32px;\n",
              "    }\n",
              "\n",
              "    .colab-df-convert:hover {\n",
              "      background-color: #E2EBFA;\n",
              "      box-shadow: 0px 1px 2px rgba(60, 64, 67, 0.3), 0px 1px 3px 1px rgba(60, 64, 67, 0.15);\n",
              "      fill: #174EA6;\n",
              "    }\n",
              "\n",
              "    [theme=dark] .colab-df-convert {\n",
              "      background-color: #3B4455;\n",
              "      fill: #D2E3FC;\n",
              "    }\n",
              "\n",
              "    [theme=dark] .colab-df-convert:hover {\n",
              "      background-color: #434B5C;\n",
              "      box-shadow: 0px 1px 3px 1px rgba(0, 0, 0, 0.15);\n",
              "      filter: drop-shadow(0px 1px 2px rgba(0, 0, 0, 0.3));\n",
              "      fill: #FFFFFF;\n",
              "    }\n",
              "  </style>\n",
              "\n",
              "      <script>\n",
              "        const buttonEl =\n",
              "          document.querySelector('#df-b627cff1-5b3b-4f3e-a825-9bad678baa9b button.colab-df-convert');\n",
              "        buttonEl.style.display =\n",
              "          google.colab.kernel.accessAllowed ? 'block' : 'none';\n",
              "\n",
              "        async function convertToInteractive(key) {\n",
              "          const element = document.querySelector('#df-b627cff1-5b3b-4f3e-a825-9bad678baa9b');\n",
              "          const dataTable =\n",
              "            await google.colab.kernel.invokeFunction('convertToInteractive',\n",
              "                                                     [key], {});\n",
              "          if (!dataTable) return;\n",
              "\n",
              "          const docLinkHtml = 'Like what you see? Visit the ' +\n",
              "            '<a target=\"_blank\" href=https://colab.research.google.com/notebooks/data_table.ipynb>data table notebook</a>'\n",
              "            + ' to learn more about interactive tables.';\n",
              "          element.innerHTML = '';\n",
              "          dataTable['output_type'] = 'display_data';\n",
              "          await google.colab.output.renderOutput(dataTable, element);\n",
              "          const docLink = document.createElement('div');\n",
              "          docLink.innerHTML = docLinkHtml;\n",
              "          element.appendChild(docLink);\n",
              "        }\n",
              "      </script>\n",
              "    </div>\n",
              "  </div>\n",
              "  "
            ],
            "text/plain": [
              "             Cst_Cnt        Btl_Cnt  ...        pH2        pH1\n",
              "count  864863.000000  864863.000000  ...  10.000000  84.000000\n",
              "mean    17138.790958  432432.000000  ...   7.948570   7.910983\n",
              "std     10240.949817  249664.587267  ...   0.021216   0.077666\n",
              "min         1.000000       1.000000  ...   7.923100   7.618300\n",
              "25%      8269.000000  216216.500000  ...   7.931475   7.898675\n",
              "50%     16848.000000  432432.000000  ...   7.946650   7.928850\n",
              "75%     26557.000000  648647.500000  ...   7.963300   7.955100\n",
              "max     34404.000000  864863.000000  ...   7.988300   8.047700\n",
              "\n",
              "[8 rows x 70 columns]"
            ]
          },
          "metadata": {},
          "execution_count": 3
        }
      ]
    },
    {
      "cell_type": "code",
      "source": [
        "water_data[\"T_degC\"] # target column"
      ],
      "metadata": {
        "colab": {
          "base_uri": "https://localhost:8080/"
        },
        "id": "5igsl1Ocwu93",
        "outputId": "741904a7-c22a-48f0-b564-83d299875f35"
      },
      "execution_count": 24,
      "outputs": [
        {
          "output_type": "execute_result",
          "data": {
            "text/plain": [
              "0         10.500\n",
              "1         10.460\n",
              "2         10.460\n",
              "3         10.450\n",
              "4         10.450\n",
              "           ...  \n",
              "864858    18.744\n",
              "864859    18.744\n",
              "864860    18.692\n",
              "864861    18.161\n",
              "864862    17.533\n",
              "Name: T_degC, Length: 864863, dtype: float64"
            ]
          },
          "metadata": {},
          "execution_count": 24
        }
      ]
    },
    {
      "cell_type": "code",
      "source": [
        "water_data[\"Salnty\"] # target column"
      ],
      "metadata": {
        "colab": {
          "base_uri": "https://localhost:8080/"
        },
        "id": "av8mr36Aw2dZ",
        "outputId": "6bf18876-43d8-4a06-864b-31e0da93ffa0"
      },
      "execution_count": 25,
      "outputs": [
        {
          "output_type": "execute_result",
          "data": {
            "text/plain": [
              "0         33.4400\n",
              "1         33.4400\n",
              "2         33.4370\n",
              "3         33.4200\n",
              "4         33.4210\n",
              "           ...   \n",
              "864858    33.4083\n",
              "864859    33.4083\n",
              "864860    33.4150\n",
              "864861    33.4062\n",
              "864862    33.3880\n",
              "Name: Salnty, Length: 864863, dtype: float64"
            ]
          },
          "metadata": {},
          "execution_count": 25
        }
      ]
    },
    {
      "cell_type": "markdown",
      "source": [
        "# Pre-processing"
      ],
      "metadata": {
        "id": "nfWeBIZ303MQ"
      }
    },
    {
      "cell_type": "markdown",
      "source": [
        "Check and change NaN values"
      ],
      "metadata": {
        "id": "a7Ig-SbV085b"
      }
    },
    {
      "cell_type": "code",
      "source": [
        "water_data[\"T_degC\"].isna().sum()"
      ],
      "metadata": {
        "colab": {
          "base_uri": "https://localhost:8080/"
        },
        "id": "6F9gFxMMw8hZ",
        "outputId": "3a6b14c5-6f59-41c4-8505-93f54dcf5869"
      },
      "execution_count": 6,
      "outputs": [
        {
          "output_type": "execute_result",
          "data": {
            "text/plain": [
              "10963"
            ]
          },
          "metadata": {},
          "execution_count": 6
        }
      ]
    },
    {
      "cell_type": "code",
      "source": [
        "water_data[\"Salnty\"].isna().sum()"
      ],
      "metadata": {
        "colab": {
          "base_uri": "https://localhost:8080/"
        },
        "id": "mvmnQRG6x7El",
        "outputId": "6dd31017-9811-4868-9221-3172913a8704"
      },
      "execution_count": 7,
      "outputs": [
        {
          "output_type": "execute_result",
          "data": {
            "text/plain": [
              "47354"
            ]
          },
          "metadata": {},
          "execution_count": 7
        }
      ]
    },
    {
      "cell_type": "code",
      "source": [
        "water_data[\"T_degC\"].fillna(water_data[\"T_degC\"].median(), inplace = True) # Replace NaN values with median"
      ],
      "metadata": {
        "id": "e_-8s4Y_y9bY"
      },
      "execution_count": 8,
      "outputs": []
    },
    {
      "cell_type": "code",
      "source": [
        "water_data[\"T_degC\"].isna().sum()"
      ],
      "metadata": {
        "colab": {
          "base_uri": "https://localhost:8080/"
        },
        "id": "xZnK7ESMzU3x",
        "outputId": "af8ed251-30a8-4cc4-9e04-a29c1ed32fdb"
      },
      "execution_count": 9,
      "outputs": [
        {
          "output_type": "execute_result",
          "data": {
            "text/plain": [
              "0"
            ]
          },
          "metadata": {},
          "execution_count": 9
        }
      ]
    },
    {
      "cell_type": "code",
      "source": [
        "water_data[\"Salnty\"].fillna(water_data[\"Salnty\"].mean(), inplace = True) # Replace NaN values with mean"
      ],
      "metadata": {
        "id": "lAv0jg73zZPC"
      },
      "execution_count": 10,
      "outputs": []
    },
    {
      "cell_type": "code",
      "source": [
        "water_data[\"Salnty\"].isna().sum()"
      ],
      "metadata": {
        "colab": {
          "base_uri": "https://localhost:8080/"
        },
        "id": "fgMXM-zH0DgV",
        "outputId": "709e7273-1f07-407e-eda9-b36a3dfb715f"
      },
      "execution_count": 11,
      "outputs": [
        {
          "output_type": "execute_result",
          "data": {
            "text/plain": [
              "0"
            ]
          },
          "metadata": {},
          "execution_count": 11
        }
      ]
    },
    {
      "cell_type": "code",
      "source": [
        "# what I'm trying to predict should be on the y axis\n",
        "plt.scatter(water_data[\"T_degC\"], water_data[\"Salnty\"])\n",
        "plt.title(\"Water Salinity Data\")\n",
        "plt.xlabel(\"X-axis Temperature in degreesC\")\n",
        "plt.ylabel(\"Y-axis Salinity\")\n",
        "plt.show()"
      ],
      "metadata": {
        "colab": {
          "base_uri": "https://localhost:8080/",
          "height": 295
        },
        "id": "E6CMTI0W0eeK",
        "outputId": "6eaeeede-cffc-43f7-c594-f54f764fc6ab"
      },
      "execution_count": 12,
      "outputs": [
        {
          "output_type": "display_data",
          "data": {
            "image/png": "[encoded data removed]",
            "text/plain": [
              "<Figure size 432x288 with 1 Axes>"
            ]
          },
          "metadata": {
            "needs_background": "light"
          }
        }
      ]
    },
    {
      "cell_type": "code",
      "source": [
        "x = water_data[\"T_degC\"].values.reshape(-1, 1)\n",
        "y = water_data[\"Salnty\"].values.reshape(-1, 1)"
      ],
      "metadata": {
        "id": "JvQoLWKi2VfS"
      },
      "execution_count": 13,
      "outputs": []
    },
    {
      "cell_type": "code",
      "source": [
        "x_train, x_test, y_train, y_test = train_test_split(x, y)"
      ],
      "metadata": {
        "id": "u2axRizj2pYd"
      },
      "execution_count": 14,
      "outputs": []
    },
    {
      "cell_type": "code",
      "source": [
        "ml_model = LinearRegression().fit(x_train, y_train)"
      ],
      "metadata": {
        "id": "tQomx7Ul2sbV"
      },
      "execution_count": 15,
      "outputs": []
    },
    {
      "cell_type": "code",
      "source": [
        "print(\"Training set score: \", ml_model.score(x_train, y_train)*100, \"%\") # ML model (machine learning model) prediction (generalisation) score based on training set"
      ],
      "metadata": {
        "colab": {
          "base_uri": "https://localhost:8080/"
        },
        "id": "cVswlkJD3zHD",
        "outputId": "6d01b46d-7f31-4114-8c67-653a445b403f"
      },
      "execution_count": 26,
      "outputs": [
        {
          "output_type": "stream",
          "name": "stdout",
          "text": [
            "Training set score:  23.856877026685595 %\n"
          ]
        }
      ]
    },
    {
      "cell_type": "code",
      "source": [
        "print(\"Test set score: \", ml_model.score(x_test, y_test)*100, \"%\") # ML model prediction score based on the test set. Generalising quite well"
      ],
      "metadata": {
        "colab": {
          "base_uri": "https://localhost:8080/"
        },
        "id": "XhVrKIMbcGAK",
        "outputId": "1a7027a8-5c02-445b-db3b-acb786d50641"
      },
      "execution_count": 27,
      "outputs": [
        {
          "output_type": "stream",
          "name": "stdout",
          "text": [
            "Test set score:  24.278232838669346 %\n"
          ]
        }
      ]
    },
    {
      "cell_type": "code",
      "source": [
        "y_prediction = ml_model.predict(x_test) # ML model predictions for salinity in test set\n",
        "print(y_prediction)"
      ],
      "metadata": {
        "colab": {
          "base_uri": "https://localhost:8080/"
        },
        "id": "Bw2C1IbTc2tM",
        "outputId": "9119fdd7-075a-4863-fc8a-81006935ef34"
      },
      "execution_count": 31,
      "outputs": [
        {
          "output_type": "stream",
          "name": "stdout",
          "text": [
            "[[33.4451129 ]\n",
            " [34.04488077]\n",
            " [33.55184243]\n",
            " ...\n",
            " [33.4924904 ]\n",
            " [33.81007582]\n",
            " [33.78872991]]\n"
          ]
        }
      ]
    },
    {
      "cell_type": "code",
      "source": [
        "y_test # actual salinity values in test set"
      ],
      "metadata": {
        "colab": {
          "base_uri": "https://localhost:8080/"
        },
        "id": "mnQXIJC5dOKU",
        "outputId": "fc1f027c-918d-4885-c72e-66378e8ed251"
      },
      "execution_count": 30,
      "outputs": [
        {
          "output_type": "execute_result",
          "data": {
            "text/plain": [
              "array([[33.236],\n",
              "       [34.44 ],\n",
              "       [33.4  ],\n",
              "       ...,\n",
              "       [33.107],\n",
              "       [33.365],\n",
              "       [34.68 ]])"
            ]
          },
          "metadata": {},
          "execution_count": 30
        }
      ]
    },
    {
      "cell_type": "markdown",
      "source": [
        "# Final results"
      ],
      "metadata": {
        "id": "9QXkmLDQdxrU"
      }
    },
    {
      "cell_type": "code",
      "source": [
        "plt.scatter(x_test, y_test)\n",
        "plt.plot(x_test, y_prediction, color=\"r\")\n",
        "plt.title(\"Water Salinity Data\")\n",
        "plt.xlabel(\"x-axis - Temperature in degreesC\")\n",
        "plt.ylabel(\"y-axis - Salinity\")\n",
        "plt.show()"
      ],
      "metadata": {
        "colab": {
          "base_uri": "https://localhost:8080/",
          "height": 295
        },
        "id": "tw-aCX5ud0Hr",
        "outputId": "af6f938c-51c6-4dc1-be69-24e79da59174"
      },
      "execution_count": 33,
      "outputs": [
        {
          "output_type": "display_data",
          "data": {
            "image/png": "[encoded data removed]",
            "text/plain": [
              "<Figure size 432x288 with 1 Axes>"
            ]
          },
          "metadata": {
            "needs_background": "light"
          }
        }
      ]
    }
  ]
}
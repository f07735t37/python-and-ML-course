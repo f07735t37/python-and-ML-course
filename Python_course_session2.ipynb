{
  "nbformat": 4,
  "nbformat_minor": 0,
  "metadata": {
    "colab": {
      "name": "Python course_session2.ipynb",
      "provenance": [],
      "authorship_tag": "ABX9TyMYajhPiT4T/G3cA8W2rF9M",
      "include_colab_link": true
    },
    "kernelspec": {
      "name": "python3",
      "display_name": "Python 3"
    },
    "language_info": {
      "name": "python"
    }
  },
  "cells": [
    {
      "cell_type": "markdown",
      "metadata": {
        "id": "view-in-github",
        "colab_type": "text"
      },
      "source": [
        "<a href=\"https://colab.research.google.com/github/f07735t37/python-and-ML-course/blob/main/Python_course_session2.ipynb\" target=\"_parent\"><img src=\"https://colab.research.google.com/assets/colab-badge.svg\" alt=\"Open In Colab\"/></a>"
      ]
    },
    {
      "cell_type": "code",
      "execution_count": null,
      "metadata": {
        "id": "0LzAnZo9RMjN"
      },
      "outputs": [],
      "source": [
        ""
      ]
    },
    {
      "cell_type": "markdown",
      "source": [
        "## Task 2\n"
      ],
      "metadata": {
        "id": "3vaToUikRaBW"
      }
    },
    {
      "cell_type": "code",
      "source": [
        "bankBalance = 10\n",
        "name = \"John\"\n",
        "overdraft = True\n",
        "overdraftAmount = 50\n"
      ],
      "metadata": {
        "id": "sNHKRW_fRiAk"
      },
      "execution_count": 19,
      "outputs": []
    },
    {
      "cell_type": "code",
      "source": [
        "if (bankBalance < 9.50 or name == \"John\"):\n",
        "  print(\"Card declined\")"
      ],
      "metadata": {
        "id": "h7dibPUecEbE"
      },
      "execution_count": null,
      "outputs": []
    },
    {
      "cell_type": "markdown",
      "source": [
        "Task 2.5\n"
      ],
      "metadata": {
        "id": "im8hVDvkb56Y"
      }
    },
    {
      "cell_type": "code",
      "source": [
        "if (bankBalance < 9.50 or overdraftAmount > 9.50):\n",
        "  print(\"Card accepted\")"
      ],
      "metadata": {
        "id": "giYGp_uZb7w2"
      },
      "execution_count": null,
      "outputs": []
    },
    {
      "cell_type": "markdown",
      "source": [
        "Sample solution:"
      ],
      "metadata": {
        "id": "HG4eIz5ocW2C"
      }
    },
    {
      "cell_type": "code",
      "source": [
        "if (bankBalance < 9.50):\n",
        "  if (overdraftAmount > 9.50):\n",
        "    print('thanks to your overdraft, card accepted')\n",
        "else:\n",
        "  print('you actually have money, card accepted')"
      ],
      "metadata": {
        "colab": {
          "base_uri": "https://localhost:8080/"
        },
        "id": "tU9Ve8kpcZAc",
        "outputId": "4970a694-6f76-4695-b165-7bcc9c7eedc2"
      },
      "execution_count": 20,
      "outputs": [
        {
          "output_type": "stream",
          "name": "stdout",
          "text": [
            "you actually have money, card accepted\n"
          ]
        }
      ]
    },
    {
      "cell_type": "code",
      "source": [
        "enter_name = input(\"Please enter your name: \") #the user input is stored to the enter_name variable"
      ],
      "metadata": {
        "colab": {
          "base_uri": "https://localhost:8080/"
        },
        "id": "EAVvGIn9sTXD",
        "outputId": "8e50b3c4-c97f-4c94-b28d-bd284af35aef"
      },
      "execution_count": 25,
      "outputs": [
        {
          "name": "stdout",
          "output_type": "stream",
          "text": [
            "Please enter your name: Olu\n"
          ]
        }
      ]
    },
    {
      "cell_type": "code",
      "source": [
        "print(enter_name)"
      ],
      "metadata": {
        "colab": {
          "base_uri": "https://localhost:8080/"
        },
        "id": "aht4PeNlsfrp",
        "outputId": "b578fc13-ca47-4b5f-89df-c342bf5015c2"
      },
      "execution_count": 26,
      "outputs": [
        {
          "output_type": "stream",
          "name": "stdout",
          "text": [
            "Olu\n"
          ]
        }
      ]
    },
    {
      "cell_type": "markdown",
      "source": [
        "# Final task\n"
      ],
      "metadata": {
        "id": "DCj2BrPZt4Op"
      }
    },
    {
      "cell_type": "code",
      "source": [
        "allowed_names = [\"Elizabeth\" , \"Dana\" , \"Ed\" , \"Adger\", \"Bob\" , \"Darryl\" , \"Julie\"] #list of allowed names\n",
        "user_name = input(\"Please enter your username: \") #user input request for username\n",
        "user_age = int(input(\"Please enter your age: \")) #user input request for their age which is saved as an integer\n",
        "user_pass = int(input(\"Security code required. Enter your age x 7. Result: \"))\n",
        "#input response data are stored in the named variable\n",
        "password = user_age * 7"
      ],
      "metadata": {
        "colab": {
          "base_uri": "https://localhost:8080/"
        },
        "id": "xv8kTblIt9kH",
        "outputId": "9bc396ce-96bb-451d-8ab9-0f3494852735"
      },
      "execution_count": 19,
      "outputs": [
        {
          "name": "stdout",
          "output_type": "stream",
          "text": [
            "Please enter your username: Sharon\n",
            "Please enter your age: 40\n",
            "Security code required. Enter your age x 7. Result: 280\n"
          ]
        }
      ]
    },
    {
      "cell_type": "code",
      "source": [
        "if (user_name in allowed_names):\n",
        "  if (user_pass == password):\n",
        "    print(\"Access granted\")\n",
        "  if (user_pass != password):\n",
        "    print(\"Incorrect security code\")\n",
        "else:\n",
        "  print(\"Access denied\")"
      ],
      "metadata": {
        "colab": {
          "base_uri": "https://localhost:8080/"
        },
        "id": "xS7HF6vPusWh",
        "outputId": "2d77c185-fb62-47b6-d7b5-af77be4f1b40"
      },
      "execution_count": 20,
      "outputs": [
        {
          "output_type": "stream",
          "name": "stdout",
          "text": [
            "Access denied\n"
          ]
        }
      ]
    },
    {
      "cell_type": "markdown",
      "source": [
        "Added extra to practice appending to a list"
      ],
      "metadata": {
        "id": "fIKVssicmrZq"
      }
    },
    {
      "cell_type": "code",
      "source": [
        "if (user_name in allowed_names):\n",
        "  if (user_age > 21):\n",
        "    print(\"Access granted\")\n",
        "if (user_name not in allowed_names):\n",
        "  if (user_age > 21):\n",
        "    allowed_names.append(user_name)\n",
        "    print(user_name + \", you've been added to allowed list. Access granted\")\n",
        "else:\n",
        "  print(\"Access denied\")"
      ],
      "metadata": {
        "colab": {
          "base_uri": "https://localhost:8080/"
        },
        "id": "szQx5thfmTK6",
        "outputId": "60e79960-2f2e-4759-b78c-aff6a108f50c"
      },
      "execution_count": 24,
      "outputs": [
        {
          "output_type": "stream",
          "name": "stdout",
          "text": [
            "Sharon, you've been added to allowed list. Access granted\n"
          ]
        }
      ]
    }
  ]
}